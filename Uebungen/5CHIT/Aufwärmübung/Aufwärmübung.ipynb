{
 "cells": [
  {
   "cell_type": "markdown",
   "id": "ae9d7867-ef31-45a6-93f0-58d8ad7d17b8",
   "metadata": {},
   "source": [
    "ook-Erstellung nicht möglich:\", e)\r\n",
    "\r\n",
    "# Give user-friendly paths\r\n",
    "print(\"\\nArtefakte:\")\r\n",
    "print(\" - Notebook: /mnt/data/00-WarmingUp.ipynb\")\r\n",
    "print(\" - Bereinigte Movies: /mnt/data/movie_cleaned.csv\")\r\n"
   ]
  },
  {
   "cell_type": "code",
   "execution_count": null,
   "id": "8abf6282-147c-4ff0-bc1a-b74cd06b1e42",
   "metadata": {},
   "outputs": [],
   "source": []
  }
 ],
 "metadata": {
  "kernelspec": {
   "display_name": "Python 3 (ipykernel)",
   "language": "python",
   "name": "python3"
  },
  "language_info": {
   "codemirror_mode": {
    "name": "ipython",
    "version": 3
   },
   "file_extension": ".py",
   "mimetype": "text/x-python",
   "name": "python",
   "nbconvert_exporter": "python",
   "pygments_lexer": "ipython3",
   "version": "3.12.4"
  }
 },
 "nbformat": 4,
 "nbformat_minor": 5
}
