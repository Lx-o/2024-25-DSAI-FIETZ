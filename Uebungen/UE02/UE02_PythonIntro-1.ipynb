{
 "cells": [
  {
   "cell_type": "markdown",
   "id": "ec9c8e46",
   "metadata": {},
   "source": [
    "# UE02 Python Einführung I - Aufgaben\n",
    "Arbeiten Sie nachfolgenden Aufgabenstellungen durch und geben Sie das Notebook via Repo (im entsprechenden Ordner) ab."
   ]
  },
  {
   "cell_type": "markdown",
   "id": "05bf5963-55d5-48f3-a31b-9044083d19f7",
   "metadata": {},
   "source": [
    "## Variablen, Strings und String-Operationen\n",
    "### Task 2.1\n",
    "Macht es einen Unterschied, ob man einfache oder doppelte Anführungsstriche verwendet? Erzeugen Sie mit <code>print(...)</code> folgende Ausgabe : **Now, I'm able to use 'print'!**"
   ]
  },
  {
   "cell_type": "code",
   "execution_count": 2,
   "id": "8f87a510-77ee-4743-8e5d-f1e067dbdbe4",
   "metadata": {
    "tags": []
   },
   "outputs": [
    {
     "ename": "FileNotFoundError",
     "evalue": "[Errno 2] No such file or directory: 'wetter.csv'",
     "output_type": "error",
     "traceback": [
      "\u001b[1;31m---------------------------------------------------------------------------\u001b[0m",
      "\u001b[1;31mFileNotFoundError\u001b[0m                         Traceback (most recent call last)",
      "Cell \u001b[1;32mIn[2], line 1\u001b[0m\n\u001b[1;32m----> 1\u001b[0m \u001b[38;5;28;01mwith\u001b[39;00m \u001b[38;5;28mopen\u001b[39m(\u001b[38;5;124m\"\u001b[39m\u001b[38;5;124mwetter.csv\u001b[39m\u001b[38;5;124m\"\u001b[39m, \u001b[38;5;124m\"\u001b[39m\u001b[38;5;124mr\u001b[39m\u001b[38;5;124m\"\u001b[39m) \u001b[38;5;28;01mas\u001b[39;00m file:\n\u001b[0;32m      2\u001b[0m     reader \u001b[38;5;241m=\u001b[39m reader\u001b[38;5;241m.\u001b[39mcsv(file)\n\u001b[0;32m      3\u001b[0m     \u001b[38;5;28mnext\u001b[39m(reader)\n",
      "File \u001b[1;32m~\\anaconda3\\Lib\\site-packages\\IPython\\core\\interactiveshell.py:324\u001b[0m, in \u001b[0;36m_modified_open\u001b[1;34m(file, *args, **kwargs)\u001b[0m\n\u001b[0;32m    317\u001b[0m \u001b[38;5;28;01mif\u001b[39;00m file \u001b[38;5;129;01min\u001b[39;00m {\u001b[38;5;241m0\u001b[39m, \u001b[38;5;241m1\u001b[39m, \u001b[38;5;241m2\u001b[39m}:\n\u001b[0;32m    318\u001b[0m     \u001b[38;5;28;01mraise\u001b[39;00m \u001b[38;5;167;01mValueError\u001b[39;00m(\n\u001b[0;32m    319\u001b[0m         \u001b[38;5;124mf\u001b[39m\u001b[38;5;124m\"\u001b[39m\u001b[38;5;124mIPython won\u001b[39m\u001b[38;5;124m'\u001b[39m\u001b[38;5;124mt let you open fd=\u001b[39m\u001b[38;5;132;01m{\u001b[39;00mfile\u001b[38;5;132;01m}\u001b[39;00m\u001b[38;5;124m by default \u001b[39m\u001b[38;5;124m\"\u001b[39m\n\u001b[0;32m    320\u001b[0m         \u001b[38;5;124m\"\u001b[39m\u001b[38;5;124mas it is likely to crash IPython. If you know what you are doing, \u001b[39m\u001b[38;5;124m\"\u001b[39m\n\u001b[0;32m    321\u001b[0m         \u001b[38;5;124m\"\u001b[39m\u001b[38;5;124myou can use builtins\u001b[39m\u001b[38;5;124m'\u001b[39m\u001b[38;5;124m open.\u001b[39m\u001b[38;5;124m\"\u001b[39m\n\u001b[0;32m    322\u001b[0m     )\n\u001b[1;32m--> 324\u001b[0m \u001b[38;5;28;01mreturn\u001b[39;00m io_open(file, \u001b[38;5;241m*\u001b[39margs, \u001b[38;5;241m*\u001b[39m\u001b[38;5;241m*\u001b[39mkwargs)\n",
      "\u001b[1;31mFileNotFoundError\u001b[0m: [Errno 2] No such file or directory: 'wetter.csv'"
     ]
    }
   ],
   "source": [
    "with open(\"wetter.csv\", \"r\") as file:\n",
    "    reader = reader.csv(file)\n",
    "    next(reader)\n",
    "    data = []\n",
    "    for i in file:\n",
    "        data.append(i)\n",
    "    print(data)\n",
    "\n",
    "    for i in file:\n",
    "        if(i[1] > 16):\n",
    "            print(i)"
   ]
  },
  {
   "cell_type": "markdown",
   "id": "c8133d3d",
   "metadata": {},
   "source": [
    "### Task 2.2\n",
    "Definiere drei Variablen, die deinen Namen, dein Alter und deinen Lieblingssport speichern. Gib dann alle Variablen in einer einzigen `print()`-Anweisung aus. gesuchtes Ergebnis:\n",
    "\n",
    "```python\n",
    "Name: Joe, Alter: 22, Sport: Tennis\n",
    "```"
   ]
  },
  {
   "cell_type": "code",
   "execution_count": null,
   "id": "bcfcb3c2",
   "metadata": {
    "tags": []
   },
   "outputs": [],
   "source": []
  },
  {
   "cell_type": "markdown",
   "id": "b463c29c-68d8-4d5f-b2d2-670261de0240",
   "metadata": {},
   "source": [
    "### Task 2.3\n",
    "Nehmen Sie https://docs.python.org/3.8/tutorial/introduction.html#strings durch, und zwar ab \"*Strings can be indexed...*\". Als Bearbeitungsgrundlage dient der Text in <code>show</code>:\n",
    "1. Geben Sie den zweiten Buchstaben der Zeichenkette aus\n",
    "2. Geben Sie das Wort **eating** aus\n",
    "3. Geben Sie alles nach **Software** aus\n",
    "4. Geben Sie alles vor **the** aus\n",
    "5. Geben Sie die letzten 3 Buchstaben der Zeichenkette aus"
   ]
  },
  {
   "cell_type": "code",
   "execution_count": 46,
   "id": "4e41acec-ba44-498c-badf-d35d1ff636d1",
   "metadata": {
    "tags": []
   },
   "outputs": [],
   "source": [
    "show = \"Software is eating the world!\""
   ]
  },
  {
   "cell_type": "markdown",
   "id": "8008b946",
   "metadata": {},
   "source": [
    "## Mathematische Operationen\n",
    "### Task 2.4\n",
    "Berechne den Umfang eines Rechtecks. Speichere die Länge und Breite in zwei Variablen und berechne dann den Umfang. Gib das Ergebnis aus. Gesuchtes Ergebnis; wobei für den Umfang beliebige werte gewählt werden können:\n",
    "````python\n",
    "Der Umfang des Rechtecks beträgt: 30\n",
    "````"
   ]
  },
  {
   "cell_type": "code",
   "execution_count": null,
   "id": "7e7aca2e",
   "metadata": {
    "tags": []
   },
   "outputs": [],
   "source": []
  },
  {
   "cell_type": "markdown",
   "id": "41405e5c",
   "metadata": {},
   "source": [
    "### Task 2.5"
   ]
  },
  {
   "cell_type": "markdown",
   "id": "40a2051c",
   "metadata": {},
   "source": [
    "Schreibe jenen Code, der die Quadrate von drei Zahlen (siehe `a`, `b` und `c`) errechnet und in `sum_of_squares` speichert. Exemplarisches Ergebnis:\n",
    "```python\n",
    "Die Summe der Quadrate von 2, 3 und 4 beträgt: 29\n",
    "```"
   ]
  },
  {
   "cell_type": "code",
   "execution_count": null,
   "id": "49c703d0",
   "metadata": {
    "tags": []
   },
   "outputs": [],
   "source": []
  },
  {
   "cell_type": "markdown",
   "id": "51d8ba58",
   "metadata": {},
   "source": [
    "## Control Flow - Conditional Statements\n",
    "### Task 2.6"
   ]
  },
  {
   "cell_type": "markdown",
   "id": "62517622",
   "metadata": {},
   "source": [
    "Schreibe ein Programm, das überprüft, ob eine Zahl gerade oder ungerade ist. Verwende eine If-Bedingung, um die Ausgabe entsprechend zu gestalten."
   ]
  },
  {
   "cell_type": "code",
   "execution_count": null,
   "id": "c73587e8",
   "metadata": {},
   "outputs": [],
   "source": []
  },
  {
   "cell_type": "markdown",
   "id": "95b28a4d",
   "metadata": {},
   "source": [
    "### Task 2.7\n",
    "Schreibe ein Programm, das überprüft, ob eine gegebene Zahl positiv, negativ oder null ist."
   ]
  },
  {
   "cell_type": "code",
   "execution_count": null,
   "id": "9a4096da",
   "metadata": {},
   "outputs": [],
   "source": []
  },
  {
   "cell_type": "markdown",
   "id": "9bad5124",
   "metadata": {},
   "source": [
    "### Task 2.8"
   ]
  },
  {
   "cell_type": "markdown",
   "id": "872afc50",
   "metadata": {},
   "source": [
    "Schreibe jenen Code, der den Benutzer nach zwei Zahlen fragt und überprüft, ob die erste Zahl ein Vielfaches der zweiten ist. **Hinweise**: \n",
    "- Der Modulo-Operator is your friend!\n",
    "- Für User-Eingaben braucht es `input`"
   ]
  },
  {
   "cell_type": "code",
   "execution_count": null,
   "id": "2c3d1596",
   "metadata": {},
   "outputs": [],
   "source": []
  },
  {
   "cell_type": "markdown",
   "id": "39b7abfc",
   "metadata": {},
   "source": [
    "## Looping / Iterators\n",
    "### Task 2.9\n",
    "Gebe die Zahlen von 1 bis 10 mit Hilfe einer Iteration aus. **Hinweis**: `range` https://docs.python.org/2/library/functions.html#range is your friend!"
   ]
  },
  {
   "cell_type": "code",
   "execution_count": null,
   "id": "f7732713",
   "metadata": {
    "tags": []
   },
   "outputs": [],
   "source": []
  },
  {
   "cell_type": "markdown",
   "id": "36892dbe",
   "metadata": {},
   "source": [
    "### Task 2.10\n",
    "Implementiere eine Schleife, die die Summe der Zahlen von 1 bis 100 berechnet."
   ]
  },
  {
   "cell_type": "code",
   "execution_count": null,
   "id": "b98f1240",
   "metadata": {},
   "outputs": [],
   "source": []
  },
  {
   "cell_type": "markdown",
   "id": "2cfde69a",
   "metadata": {},
   "source": [
    "## Lists"
   ]
  },
  {
   "cell_type": "markdown",
   "id": "8a4e35ef",
   "metadata": {},
   "source": [
    "### Task 2.11\n",
    "Erstelle eine Liste mit den Zahlen 1 bis 5 und gib die Liste aus."
   ]
  },
  {
   "cell_type": "code",
   "execution_count": null,
   "id": "f46e9472",
   "metadata": {
    "tags": []
   },
   "outputs": [],
   "source": []
  },
  {
   "cell_type": "markdown",
   "id": "86fd30f0",
   "metadata": {},
   "source": [
    "### Task 2.12 \n",
    "Füge ein neues Element zur Liste hinzu und gib die aktualisierte Liste aus."
   ]
  },
  {
   "cell_type": "code",
   "execution_count": null,
   "id": "7918b6ac",
   "metadata": {
    "tags": []
   },
   "outputs": [],
   "source": []
  },
  {
   "cell_type": "markdown",
   "id": "7407f8a8-9d31-4017-93f7-d8624fd99670",
   "metadata": {},
   "source": [
    "### Task 2.13 \n",
    "Lösche den Listeneintrag \"Sue\" durch Angabe des Indexes und entferne den Eintrag \"Kim\" anhand seines Wertes."
   ]
  },
  {
   "cell_type": "code",
   "execution_count": 47,
   "id": "e007d200-f9cb-44c1-b51f-b47252001e2f",
   "metadata": {
    "tags": []
   },
   "outputs": [],
   "source": [
    "names = [\"Max\", \"Sue\", \"Kim\", \"Joe\"]"
   ]
  },
  {
   "cell_type": "markdown",
   "id": "f4f54e33",
   "metadata": {},
   "source": [
    "### Task 2.14\n",
    "Iterieren über die Liste `data` und fügen Sie hierbei alle geraden Einträge der neu zu erstellenden Liste `even_data` und alle ungeraden der Liste `odd_data` hinzu."
   ]
  },
  {
   "cell_type": "code",
   "execution_count": 14,
   "id": "f7be996a-7f5a-4454-bfbd-14a2e64768ac",
   "metadata": {
    "tags": []
   },
   "outputs": [],
   "source": [
    "data = [1,2,3,4,5,6,7,8,9,10]"
   ]
  },
  {
   "cell_type": "markdown",
   "id": "d0bfe169",
   "metadata": {},
   "source": [
    "## Dictionaries\n",
    "### Task 2.15\n",
    "Erstelle das Dictionary `people`, das die Namen (=Key) und Alter (=Value) von drei Personen speichert. Gib das Dictionary aus. Beispielhaftes Ergebnis:\n",
    "````python\n",
    "{'Max': 22, 'Anna': 25, 'Tom': 30}\n",
    "````"
   ]
  },
  {
   "cell_type": "markdown",
   "id": "9b697a61",
   "metadata": {},
   "source": [
    "### Task 2.16\n",
    "Füge eine neue Person zum Dictionary hinzu und gib das aktualisierte Dictionary aus."
   ]
  },
  {
   "cell_type": "markdown",
   "id": "ce7165ac",
   "metadata": {},
   "source": [
    "### Task 2.17"
   ]
  },
  {
   "cell_type": "markdown",
   "id": "586b884b",
   "metadata": {},
   "source": [
    "Grundlage bildet wiederum `people`: Gesucht ist diese Ausgabe:\n",
    "````python\n",
    "Max ist 22 Jahre alt\n",
    "Anna ist 25 Jahre alt\n",
    "Tom ist 30 Jahre alt\n",
    "````"
   ]
  }
 ],
 "metadata": {
  "kernelspec": {
   "display_name": "Python 3 (ipykernel)",
   "language": "python",
   "name": "python3"
  },
  "language_info": {
   "codemirror_mode": {
    "name": "ipython",
    "version": 3
   },
   "file_extension": ".py",
   "mimetype": "text/x-python",
   "name": "python",
   "nbconvert_exporter": "python",
   "pygments_lexer": "ipython3",
   "version": "3.12.4"
  }
 },
 "nbformat": 4,
 "nbformat_minor": 5
}
