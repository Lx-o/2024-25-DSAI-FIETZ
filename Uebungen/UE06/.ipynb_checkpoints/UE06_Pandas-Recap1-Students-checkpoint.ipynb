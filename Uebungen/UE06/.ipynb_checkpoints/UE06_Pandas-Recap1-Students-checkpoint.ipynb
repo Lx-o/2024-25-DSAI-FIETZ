{
 "cells": [
  {
   "cell_type": "markdown",
   "metadata": {},
   "source": [
    "# Pandas Exercises 1\n",
    "Arbeiten Sie nachfolgenden Aufgabenstellungen durch und dokumentieren Sie, wenn notwendig, ihre Erkenntnisse. \n",
    "\n",
    "\n",
    "Importieren Sie *pandas*."
   ]
  },
  {
   "cell_type": "code",
   "execution_count": null,
   "metadata": {},
   "outputs": [],
   "source": [
    "import pandas as pd"
   ]
  },
  {
   "cell_type": "markdown",
   "metadata": {},
   "source": [
    "## Task 1\n",
    "Erstellen Sie mit `data` ein *Series*-Objekt und geben Sie dessen Werte sowie Indizes aus. Zeigen Sie außerdem, dass\n",
    "- das erstellte Objekt vom Typ *Series* und\n",
    "- die Werte vom Typ *numpy*\n",
    "sind."
   ]
  },
  {
   "cell_type": "code",
   "execution_count": 1,
   "metadata": {},
   "outputs": [],
   "source": [
    "data = [11, 28, 72, 3, 5, 8]\n"
   ]
  },
  {
   "cell_type": "markdown",
   "metadata": {},
   "source": [
    "## Task 2\n",
    "Erstellen Sie mit `quantities` eine *Series*. Verwenden Sie hierbei `fruits` als Indizes. Gesuchtes Ergebnis:\n",
    "\n",
    "```python\n",
    "apples      20\n",
    "oranges     23\n",
    "cherries    45\n",
    "pears       10\n",
    "dtype: int64\n",
    "```"
   ]
  },
  {
   "cell_type": "code",
   "execution_count": 2,
   "metadata": {},
   "outputs": [],
   "source": [
    "fruits = ['apples', 'oranges', 'cherries', 'pears']\n",
    "quantities = [20, 23, 45, 10]\n"
   ]
  },
  {
   "cell_type": "markdown",
   "metadata": {},
   "source": [
    "## Task 3\n",
    "Man kann zwei *Series*-Objekte (mit denselben Indizes) addieren. Das Ergebnis ist ein neues *Series*-Objekt. Addieren sie die Quantities `q1` und `q2`. Bilden Sie außerdem die Summe der beiden *Series*-Objekte. Gesuchtes Ergebnis:\n",
    "\n",
    "```python\n",
    "apples      30\n",
    "oranges     36\n",
    "cherries    70\n",
    "pears       11\n",
    "dtype: int64\n",
    "Summe: 147\n",
    "```"
   ]
  },
  {
   "cell_type": "code",
   "execution_count": 3,
   "metadata": {},
   "outputs": [],
   "source": [
    "fruits = ['apples', 'oranges', 'cherries', 'pears']\n",
    "\n",
    "q1 = [20, 23, 45, 10]\n",
    "q2 = [10, 13, 25, 1]\n"
   ]
  },
  {
   "cell_type": "markdown",
   "metadata": {},
   "source": [
    "## Task 4\n",
    "Index-basierter Zugriff erfolgt mit (zwei) eckigen Klammern (z.B. `my_series['foo']` oder `my_series[['foo', 'bar']]`) Geben Sie a) die Anzahl der *Äpfel* aus. Geben Sie b) die Anzahl der *Äpfel*, *Orangen* und *Kirschen* aus. "
   ]
  },
  {
   "cell_type": "code",
   "execution_count": 4,
   "metadata": {},
   "outputs": [],
   "source": [
    "fruits = ['apples', 'oranges', 'cherries', 'pears']\n",
    "quantities = [20, 23, 45, 10]\n"
   ]
  },
  {
   "cell_type": "markdown",
   "metadata": {},
   "source": [
    "## Task 5\n",
    "Ein Problem bei Aufgaben in der Datenanalyse besteht in fehlenden Daten. Gegeben ist das Dictionary `cities`, das für ausgewählte Städte die Einwohnerzahl bereithält. a) Erstellen Sie daraus eine *Series* und geben Sie dieses aus. "
   ]
  },
  {
   "cell_type": "code",
   "execution_count": 5,
   "metadata": {},
   "outputs": [],
   "source": [
    "cities = {\n",
    "    'London': 8615246,\n",
    "    'Berlin': 3562166,\n",
    "    'Madrid': 3165235,\n",
    "    'Rome': 2874038,\n",
    "    'Paris': 2273305,\n",
    "    'Vienna': 1805681,\n",
    "    'Bucharest': 1803425,\n",
    "    'Hamburg': 1760433,\n",
    "    'Budapest': 1754000,\n",
    "    'Warsaw': 1740119,\n",
    "    'Barcelona': 1602386,\n",
    "    'Munich': 1493900,\n",
    "    'Milan': 1350690\n",
    "}\n"
   ]
  },
  {
   "cell_type": "markdown",
   "metadata": {},
   "source": [
    "Erstellen Sie b) zwei weitere *Series*-Objekte, die aber mit `my_cities1` und `my_cities2` neue Indizes verwenden. Wie intrepretieren Sie das Ergebnis, was fällt Ihnen auf?"
   ]
  },
  {
   "cell_type": "code",
   "execution_count": 6,
   "metadata": {},
   "outputs": [],
   "source": [
    "my_cities1 = ['London', 'Paris', 'Zurich', 'Berlin', 'Stuttgart', 'Hamburg']\n",
    "my_cities2 = ['London', 'Paris', 'Berlin', 'Hamburg']\n",
    "\n"
   ]
  },
  {
   "cell_type": "markdown",
   "metadata": {},
   "source": [
    "`nan`steht für *not a number*, was als \"fehlt\" zu verstehen ist. Mit den Methoden `isnull`und `notnull` kann man auf fehlende Werte überprüfen. Führen Sie c) diese Überprüfung durch, sodass folgendes Ergebnis zu Buche steht:\n",
    "\n",
    "```Python\n",
    "London       False\n",
    "Paris        False\n",
    "Zurich        True\n",
    "Berlin       False\n",
    "Stuttgart     True\n",
    "Hamburg      False\n",
    "dtype: bool\n",
    "```"
   ]
  },
  {
   "cell_type": "markdown",
   "metadata": {},
   "source": [
    "Filtern Sie d) die fehlende Werte mit `dropna()`. Gesuchtes Ergebnis:\n",
    "```python\n",
    "London     8615246.0\n",
    "Paris      2273305.0\n",
    "Berlin     3562166.0\n",
    "Hamburg    1760433.0\n",
    "dtype: float64\n",
    "```"
   ]
  },
  {
   "cell_type": "code",
   "execution_count": null,
   "metadata": {},
   "outputs": [],
   "source": [
    "import pandas as pd\n",
    "data = pd.Series({\n",
    "    \"London\": 8615246,\n",
    "    \"Paris\": 2273305,\n",
    "    \"Berlin\": 3562166,\n",
    "    \"Madrid\": None,\n",
    "    \"Rome\": None,\n",
    "    \"Hamburg\": 1760433\n",
    "})\n",
    "\n",
    "filtered_data = data.dropna()\n",
    "\n",
    "print(filtered_data)"
   ]
  },
  {
   "cell_type": "markdown",
   "metadata": {},
   "source": [
    "Fehlende Daten müssen nicht immer gefiltert werden – oft ist es sinnvoller, diese durch 'passende' Werte zu ersetzen. Mit der Methode `fillna()` können fehlende Werte einfach aufgefüllt werden. Ein naheliegendes Beispiel wäre das Ersetzen aller fehlenden Werte durch '0'. Setzen Sie e) diese Methode in Ihrem Code um:\n",
    "\n",
    "```Python\n",
    "London       8615246.0\n",
    "Paris        2273305.0\n",
    "Zurich             0.0\n",
    "Berlin       3562166.0\n",
    "Stuttgart          0.0\n",
    "Hamburg      1760433.0\n",
    "dtype: float64\n",
    "```"
   ]
  },
  {
   "cell_type": "code",
   "execution_count": null,
   "metadata": {},
   "outputs": [],
   "source": [
    "data = pd.Series({\n",
    "    \"London\": 8615246,\n",
    "    \"Paris\": 2273305,\n",
    "    \"Zurich\": None,\n",
    "    \"Berlin\": 3562166,\n",
    "    \"Stuttgart\": None,\n",
    "    \"Hamburg\": 1760433\n",
    "})\n",
    "\n",
    "filled_data = data.fillna(0)\n",
    "\n",
    "print(filled_data)"
   ]
  },
  {
   "cell_type": "markdown",
   "metadata": {},
   "source": [
    "## Task 6\n",
    "Ein DataFrame in Pandas besteht aus einem Zeilen- und Spaltenindex, der die Struktur der Daten definiert. Um mehrere Series-Objekte zu einem DataFrame zu kombinieren, bietet Pandas die Methode `concat()` an (siehe Dokumentation). Erstellen Sie in Aufgabe a) das DataFrame `shops_df`, indem Sie die drei Series-Objekte zusammenfügen. Das Ergebnis sollte im ersten Schritt wie folgt aussehen:\n",
    "\n",
    "```Python\n",
    "2014    2409.14\n",
    "2015    2941.01\n",
    "2016    3496.83\n",
    "2017    3119.55\n",
    "2014    1203.45\n",
    "2015    3441.62\n",
    "2016    3007.83\n",
    "2017    3619.53\n",
    "2014    3412.12\n",
    "2015    3491.16\n",
    "2016    3457.19\n",
    "2017    1963.10\n",
    "dtype: float64\n",
    "```"
   ]
  },
  {
   "cell_type": "code",
   "execution_count": 8,
   "metadata": {},
   "outputs": [],
   "source": [
    "#Die Jahre 2014, 2015, 2016 und 2017 erstellen, die als Index einer Series dienen:\n",
    "years = range(2014, 2018)\n",
    "\n",
    "shop1 = pd.Series([2409.14, 2941.01, 3496.83, 3119.55], years)\n",
    "shop2 = pd.Series([1203.45, 3441.62, 3007.83, 3619.53], years)\n",
    "shop3 = pd.Series([3412.12, 3491.16, 3457.19, 1963.10], years)\n"
   ]
  },
  {
   "cell_type": "markdown",
   "metadata": {},
   "source": [
    "Das Ergebnis ist mehr oder weniger unbrauchbar. Der Grund: `concat` verwendet als Default-Wert für den *axis*-Paramter den Wert 0. Das bedeutet, es wird Zeile um Zeile (der jeweiligen *Series*) aneinandergefügt (vgl. NumPy-Einführung, Leserichtung bei 2D-Tensoren). Abhilfe schafft eine spaltenweise \"Additiion\" der einzelnen *Series'*. Die Umsetzung erfolgt mit dem Argument `axis=1` bei `concat`. Verwenden Sie b) das `axis=1`-Argument beim Zusammenfügen der *Series'*. Das Ergebnis:\n",
    "\n",
    "```Python\n",
    "            0        1        2\n",
    "2014  2409.14  1203.45  3412.12\n",
    "2015  2941.01  3441.62  3491.16\n",
    "2016  3496.83  3007.83  3457.19\n",
    "2017  3119.55  3619.53  1963.10\n",
    "```"
   ]
  },
  {
   "cell_type": "code",
   "execution_count": null,
   "metadata": {},
   "outputs": [],
   "source": [
    "series1 = pd.Series([2409.14, 2941.01, 3496.83, 3119.55], index=[2014, 2015, 2016, 2017])\n",
    "series2 = pd.Series([1203.45, 3441.62, 3007.83, 3619.53], index=[2014, 2015, 2016, 2017])\n",
    "series3 = pd.Series([3412.12, 3491.16, 3457.19, 1963.10], index=[2014, 2015, 2016, 2017])\n",
    "\n",
    "result = pd.concat([series1, series2, series3], axis=1)\n",
    "\n",
    "result.columns = [0, 1, 2]\n",
    "\n",
    "print(result)\n"
   ]
  },
  {
   "cell_type": "markdown",
   "metadata": {},
   "source": [
    "Die bisher erzielte Darstellung der Daten ist deutlich übersichtlicher, allerdings sind die Spaltennamen noch nicht optimal. Ein DataFrame verfügt über das Property `columns`, mit dem die Spaltennamen einfach angepasst werden können. Dazu können Sie eine neue Liste mit Spaltennamen (z.B. die Liste `cities`) zuweisen. Setzen Sie in Aufgabe c) diese Anpassung um, indem Sie dem DataFrame `shops_df` die neuen Spaltenbezeichner zuweisen. Das Ergebnis sollte wie folgt aussehen:\n",
    "\n",
    "```Python\n",
    "         Wien     Graz  Salzburg\n",
    "2014  2409.14  1203.45   3412.12\n",
    "2015  2941.01  3441.62   3491.16\n",
    "2016  3496.83  3007.83   3457.19\n",
    "2017  3119.55  3619.53   1963.10\n",
    "```"
   ]
  },
  {
   "cell_type": "code",
   "execution_count": null,
   "metadata": {},
   "outputs": [],
   "source": [
    "series1 = pd.Series([2409.14, 2941.01, 3496.83, 3119.55], index=[2014, 2015, 2016, 2017])\n",
    "series2 = pd.Series([1203.45, 3441.62, 3007.83, 3619.53], index=[2014, 2015, 2016, 2017])\n",
    "series3 = pd.Series([3412.12, 3491.16, 3457.19, 1963.10], index=[2014, 2015, 2016, 2017])\n",
    "\n",
    "shops_df = pd.concat([series1, series2, series3], axis=1)\n",
    "\n",
    "cities = [\"Wien\", \"Graz\", \"Salzburg\"]\n",
    "\n",
    "shops_df.columns = cities\n",
    "\n",
    "print(shops_df)"
   ]
  },
  {
   "cell_type": "markdown",
   "metadata": {},
   "source": [
    "Geben Sie d) die Inhalte der Spalte \"Graz\" aus und vergewissern Sie sich, ob die Spalte vom Typ *Series* ist."
   ]
  },
  {
   "cell_type": "code",
   "execution_count": null,
   "metadata": {},
   "outputs": [],
   "source": [
    "graz_column = shops_df[\"Graz\"]\n",
    "print(graz_column)\n",
    "print(f\"Ist 'Graz' eine Pandas Series? {isinstance(graz_column, pd.Series)}\")"
   ]
  }
 ],
 "metadata": {
  "kernelspec": {
   "display_name": "Python 3 (ipykernel)",
   "language": "python",
   "name": "python3"
  },
  "language_info": {
   "codemirror_mode": {
    "name": "ipython",
    "version": 3
   },
   "file_extension": ".py",
   "mimetype": "text/x-python",
   "name": "python",
   "nbconvert_exporter": "python",
   "pygments_lexer": "ipython3",
   "version": "3.12.4"
  }
 },
 "nbformat": 4,
 "nbformat_minor": 4
}
